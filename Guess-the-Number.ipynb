{
  "nbformat": 4,
  "nbformat_minor": 0,
  "metadata": {
    "colab": {
      "provenance": []
    },
    "kernelspec": {
      "name": "python3",
      "display_name": "Python 3"
    },
    "language_info": {
      "name": "python"
    }
  },
  "cells": [
    {
      "cell_type": "code",
      "execution_count": 1,
      "metadata": {
        "id": "_2wm70boAa8T"
      },
      "outputs": [],
      "source": [
        "#Import necessary module\n",
        "import random"
      ]
    },
    {
      "cell_type": "code",
      "source": [
        "#Create empty list to keep track of attempted guesses\n",
        "attempts_list = []"
      ],
      "metadata": {
        "id": "Z5fi48Z5bCp9"
      },
      "execution_count": 2,
      "outputs": []
    },
    {
      "cell_type": "code",
      "source": [
        "#Create a function that indicates player's first attempt or the number of total attempts\n",
        "def score():\n",
        "    if len(attempts_list) <= 0:\n",
        "        print(\"No high score available!\")\n",
        "    else:\n",
        "        print(\"The current high score is {} attempts\".format(min(attempts_list)))"
      ],
      "metadata": {
        "id": "MiPM_7IrbhNS"
      },
      "execution_count": 3,
      "outputs": []
    },
    {
      "cell_type": "code",
      "source": [
        "#Start the game by creating another function\n",
        "def start():\n",
        "    #Generate random number from 1 to 15\n",
        "    random_number = int(random.randint(1, 15))\n",
        "    print(\"Welcome to the Guess the Number game!\")\n",
        "    name = input(\"What is your name? \")\n",
        "    #Insert name of the player in placeholder\n",
        "    play_or_not = input(\"Hi, {}, would you like to play the game? (Enter Yes/No) \".format(name))\n",
        "    #Create variable to indicate number of attempts that are later added on as the game proceeds\n",
        "    attempts = 0\n",
        "    score()\n",
        "    #Create while and if statements for guesses\n",
        "    while play_or_not.lower() == \"yes\":\n",
        "        try:\n",
        "            guess = input(\"Pick a number between 1 and 15\")\n",
        "            if int(guess) < 1 or int(guess) > 15:\n",
        "                raise ValueError(\"The guess is out of range\")\n",
        "            if int(guess) == random_number:\n",
        "                print(\"Nice! You got it!\")\n",
        "                #Add 1 to attempts variable and print out the result\n",
        "                attempts += 1\n",
        "                attempts_list.append(attempts)\n",
        "                #Insert number of attempts so far in placeholder\n",
        "                print(\"It took you {} attempts\".format(attempts))\n",
        "                play_again = input(\"Would you like to play again? (Enter Yes/No) \")\n",
        "                attempts = 0\n",
        "                score()\n",
        "                random_number = int(random.randint(1, 15))\n",
        "                #If the player answers no, end the game\n",
        "                if play_again.lower() == \"no\":\n",
        "                    print(\"Thanks for joining!\")\n",
        "                    break\n",
        "            #If the guess is higher than the number\n",
        "            elif int(guess) > random_number:\n",
        "                print(\"It's lower\")\n",
        "                attempts += 1\n",
        "            #If the guess is lower than the number\n",
        "            elif int(guess) < random_number:\n",
        "                print(\"It's higher\")\n",
        "                attempts += 1\n",
        "        #If value out of the range is typed in\n",
        "        except ValueError as err:\n",
        "            print(\"Value out of range. Try again!\")\n",
        "            print(\"({})\".format(err))\n",
        "    else:\n",
        "        print(\"Thanks for joining!\")\n",
        "#This indicates if the code is used as the main program or part of a program\n",
        "if __name__ == '__main__':\n",
        "    start()"
      ],
      "metadata": {
        "colab": {
          "base_uri": "https://localhost:8080/"
        },
        "id": "ETWAzlqyboYS",
        "outputId": "442f85ef-81dc-45e8-e3cf-67a43724addc"
      },
      "execution_count": 4,
      "outputs": [
        {
          "output_type": "stream",
          "name": "stdout",
          "text": [
            "Welcome to the Guess the Number game!\n",
            "What is your name? So Young Oh\n",
            "Hi, So Young Oh, would you like to play the game? (Enter Yes/No) Yes\n",
            "No high score available!\n",
            "Pick a number between 1 and 1523\n",
            "Value out of range. Try again!\n",
            "(The guess is out of range)\n",
            "Pick a number between 1 and 1512\n",
            "It's lower\n",
            "Pick a number between 1 and 1511\n",
            "It's lower\n",
            "Pick a number between 1 and 159\n",
            "It's lower\n",
            "Pick a number between 1 and 155\n",
            "It's lower\n",
            "Pick a number between 1 and 154\n",
            "Nice! You got it!\n",
            "It took you 5 attempts\n",
            "Would you like to play again? (Enter Yes/No) Yes\n",
            "The current high score is 5 attempts\n",
            "Pick a number between 1 and 154\n",
            "It's higher\n",
            "Pick a number between 1 and 155\n",
            "Nice! You got it!\n",
            "It took you 2 attempts\n",
            "Would you like to play again? (Enter Yes/No) No\n",
            "The current high score is 2 attempts\n",
            "Thanks for joining!\n"
          ]
        }
      ]
    }
  ]
}